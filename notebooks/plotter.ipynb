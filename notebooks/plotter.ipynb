{
 "cells": [
  {
   "cell_type": "code",
   "execution_count": 1,
   "metadata": {},
   "outputs": [
    {
     "data": {
      "text/plain": [
       "PosixPath('/faststorage2/users/a.varlamov/cover_test')"
      ]
     },
     "execution_count": 1,
     "metadata": {},
     "output_type": "execute_result"
    }
   ],
   "source": [
    "import os\n",
    "import rootutils\n",
    "\n",
    "%load_ext autoreload\n",
    "%autoreload 2\n",
    "\n",
    "rootutils.setup_root(os.path.abspath('./'), indicator=\".project-root\", pythonpath=True, dotenv=True, cwd=True)"
   ]
  },
  {
   "cell_type": "code",
   "execution_count": 2,
   "metadata": {},
   "outputs": [],
   "source": [
    "import pandas as pd\n",
    "import os\n",
    "from PIL import Image\n",
    "import matplotlib.pyplot as plt\n",
    "from tqdm.auto import tqdm"
   ]
  },
  {
   "cell_type": "code",
   "execution_count": 3,
   "metadata": {},
   "outputs": [],
   "source": [
    "def collate_energy_plots(\n",
    "    base_dir: str,\n",
    "    activation: str,\n",
    "    dt_values: list[float],\n",
    "    t1_values: list[float],\n",
    "    nrows: int,\n",
    "    ncols: int,\n",
    "    output_path: str,\n",
    "    figsize_scales: tuple[float, float] = (10, 6),\n",
    "    img_name: str = 'energy_plot_10samples.png'\n",
    ") -> None:\n",
    "    \"\"\"\n",
    "    Collects energy_plot images into a grid for a given activation function.\n",
    "\n",
    "    Parameters:\n",
    "    - base_dir: path to the experiments folder\n",
    "    - activation: activation function name (e.g., 'gelu')\n",
    "    - dt_values: list of dt values in the order for rows\n",
    "    - t1_values: list of t1 values in the order for columns\n",
    "    - nrows: number of rows (e.g., len(dt_values))\n",
    "    - ncols: number of columns (e.g., len(t1_values))\n",
    "    - output_path: file path to save the composite image\n",
    "    - img_name: name of the image file inside each run folder\n",
    "    \"\"\"\n",
    "    # Create figure and axes\n",
    "    fig, axes = plt.subplots(nrows, ncols, figsize=(figsize_scales[0]*ncols, figsize_scales[1]*nrows))\n",
    "    # If only one row or col, ensure axes is 2D\n",
    "    axes = axes.reshape((nrows, ncols))\n",
    "\n",
    "    # Loop over grid positions\n",
    "    for i, dt in enumerate(dt_values):\n",
    "        for j, t1 in enumerate(t1_values):\n",
    "            ax = axes[i, j]\n",
    "            # Build search pattern for folder\n",
    "            prefix = f\"run_*_{activation}_t1={t1}_dt={dt}\"\n",
    "            # Find matching folders\n",
    "            matches = [d for d in os.listdir(base_dir) if d.startswith('run_') and activation in d and f't1={t1}' in d and f'dt={dt}' in d]\n",
    "            if matches:\n",
    "                # Use first match\n",
    "                folder = os.path.join(base_dir, matches[0])\n",
    "                img_path = os.path.join(folder, img_name)\n",
    "                if os.path.isfile(img_path):\n",
    "                    img = Image.open(img_path)\n",
    "                    ax.imshow(img)\n",
    "                else:\n",
    "                    # Missing image\n",
    "                    ax.text(0.5, 0.5, 'Missing', ha='center', va='center')\n",
    "            else:\n",
    "                # Missing folder\n",
    "                ax.text(0.5, 0.5, 'Missing', ha='center', va='center')\n",
    "\n",
    "            # Hide ticks but keep labels\n",
    "            ax.set_xticks([])\n",
    "            ax.set_yticks([])\n",
    "            ax.set_frame_on(False)\n",
    "            # Column titles for t1\n",
    "            if i == 0:\n",
    "                ax.set_title(f't1={t1}', pad=12, fontsize=20)\n",
    "            # Row labels for dt\n",
    "            if j == 0:\n",
    "                ax.set_ylabel(f'dt={dt}', rotation=90, labelpad=16, fontsize=20)\n",
    "\n",
    "    # Main title\n",
    "    fig.suptitle(f'Activation: {activation}', fontsize=40)\n",
    "    # plt.tight_layout(rect=[0, 0, 1, 0.95])\n",
    "    plt.subplots_adjust(wspace=-0.05, hspace=-0.05)\n",
    "    # Save\n",
    "    fig.savefig(output_path, bbox_inches='tight', pad_inches=0)\n",
    "    plt.close(fig)\n",
    "    # plt.show()\n"
   ]
  },
  {
   "cell_type": "code",
   "execution_count": 4,
   "metadata": {},
   "outputs": [],
   "source": [
    "dt_values = [0.01, 0.05, 0.1]\n",
    "t1_values = [1.0, 3.0, 5.0, 10.0, 15.0]\n",
    "\n",
    "collate_energy_plots(\n",
    "    base_dir='experiments',\n",
    "    activation='gelu',\n",
    "    dt_values=dt_values,\n",
    "    t1_values=t1_values,\n",
    "    nrows=len(dt_values),\n",
    "    ncols=len(t1_values),\n",
    "    output_path='energy_plot_gelu.png',\n",
    "    figsize_scales=(10, 6)\n",
    ")"
   ]
  },
  {
   "cell_type": "code",
   "execution_count": 5,
   "metadata": {},
   "outputs": [],
   "source": [
    "def collate_all_activations(\n",
    "    base_dir: str,\n",
    "    activations: list[str],\n",
    "    dt_values: list[float],\n",
    "    t1_values: list[float],\n",
    "    output_dir: str,\n",
    "    img_name: str = 'energy_plot_10samples.png'\n",
    ") -> None:\n",
    "    \"\"\"\n",
    "    Apply collate_energy_plots for multiple activation functions.\n",
    "\n",
    "    Parameters:\n",
    "    - base_dir: path to experiments folder\n",
    "    - activations: list of activation names\n",
    "    - dt_values: list of dt values for rows\n",
    "    - t1_values: list of t1 values for columns\n",
    "    - output_dir: folder to save composite images\n",
    "    - img_name: filename inside each run folder\n",
    "    \"\"\"\n",
    "    os.makedirs(output_dir, exist_ok=True)\n",
    "    nrows = len(dt_values)\n",
    "    ncols = len(t1_values)\n",
    "    \n",
    "    for act in tqdm(activations, desc='Collating activations'):\n",
    "        out_path = os.path.join(output_dir, f'{act}.png')\n",
    "        collate_energy_plots(\n",
    "            base_dir=base_dir,\n",
    "            activation=act,\n",
    "            dt_values=dt_values,\n",
    "            t1_values=t1_values,\n",
    "            nrows=nrows,\n",
    "            ncols=ncols,\n",
    "            output_path=out_path,\n",
    "            img_name=img_name\n",
    "        )"
   ]
  },
  {
   "cell_type": "code",
   "execution_count": 6,
   "metadata": {},
   "outputs": [
    {
     "data": {
      "application/vnd.jupyter.widget-view+json": {
       "model_id": "70b9eca8f76044c7ae1238fdc81eff25",
       "version_major": 2,
       "version_minor": 0
      },
      "text/plain": [
       "Collating activations:   0%|          | 0/10 [00:00<?, ?it/s]"
      ]
     },
     "metadata": {},
     "output_type": "display_data"
    }
   ],
   "source": [
    "collate_all_activations(\n",
    "    base_dir='experiments',\n",
    "    activations=[\"gelu\", \"softplus\", \"silu\", \"tanh\", \"leaky_relu\", \"elu\", \"relu\", \"mish\", \"squareplus\", \"sigmoid\"],\n",
    "    dt_values=[0.01, 0.05, 0.1],\n",
    "    t1_values=[1.0, 3.0, 5.0, 10.0, 15.0],\n",
    "    output_dir='energy_plots',\n",
    "    img_name='energy_plot_10samples.png'\n",
    ")"
   ]
  },
  {
   "cell_type": "code",
   "execution_count": 7,
   "metadata": {},
   "outputs": [
    {
     "data": {
      "application/vnd.jupyter.widget-view+json": {
       "model_id": "e495d1cb7b4040659d15501a3b1df7c5",
       "version_major": 2,
       "version_minor": 0
      },
      "text/plain": [
       "Collating activations:   0%|          | 0/10 [00:00<?, ?it/s]"
      ]
     },
     "metadata": {},
     "output_type": "display_data"
    }
   ],
   "source": [
    "collate_all_activations(\n",
    "    base_dir='experiments',\n",
    "    activations=[\"gelu\", \"softplus\", \"silu\", \"tanh\", \"leaky_relu\", \"elu\", \"relu\", \"mish\", \"squareplus\", \"sigmoid\"],\n",
    "    dt_values=[0.01, 0.05, 0.1],\n",
    "    t1_values=[1.0, 3.0, 5.0, 10.0, 15.0],\n",
    "    output_dir='training_plots',\n",
    "    img_name='training_plot.png'\n",
    ")"
   ]
  },
  {
   "cell_type": "markdown",
   "metadata": {},
   "source": []
  },
  {
   "cell_type": "markdown",
   "metadata": {},
   "source": [
    "---\n",
    "## 1e-4 LR:"
   ]
  },
  {
   "cell_type": "code",
   "execution_count": 9,
   "metadata": {},
   "outputs": [
    {
     "data": {
      "application/vnd.jupyter.widget-view+json": {
       "model_id": "f36235738922442a833c98357a67b72c",
       "version_major": 2,
       "version_minor": 0
      },
      "text/plain": [
       "Collating activations:   0%|          | 0/3 [00:00<?, ?it/s]"
      ]
     },
     "metadata": {},
     "output_type": "display_data"
    }
   ],
   "source": [
    "collate_all_activations(\n",
    "    base_dir='experiments',\n",
    "    activations=[\"softplus\", \"tanh\", \"sigmoid\"],\n",
    "    dt_values=[0.01, 0.05, 0.1],\n",
    "    t1_values=[5.0, 10.0, 15.0],\n",
    "    output_dir='energy_plots',\n",
    "    img_name='energy_plot_10samples.png'\n",
    ")"
   ]
  },
  {
   "cell_type": "code",
   "execution_count": 10,
   "metadata": {},
   "outputs": [
    {
     "data": {
      "application/vnd.jupyter.widget-view+json": {
       "model_id": "f3cc7d4be8b842e2937c493a02903b71",
       "version_major": 2,
       "version_minor": 0
      },
      "text/plain": [
       "Collating activations:   0%|          | 0/3 [00:00<?, ?it/s]"
      ]
     },
     "metadata": {},
     "output_type": "display_data"
    }
   ],
   "source": [
    "collate_all_activations(\n",
    "    base_dir='experiments',\n",
    "    activations=[\"softplus\", \"tanh\", \"sigmoid\"],\n",
    "    dt_values=[0.01, 0.05, 0.1],\n",
    "    t1_values=[5.0, 10.0, 15.0],\n",
    "    output_dir='training_plots',\n",
    "    img_name='training_plot.png'\n",
    ")\n"
   ]
  }
 ],
 "metadata": {
  "kernelspec": {
   "display_name": ".venv",
   "language": "python",
   "name": "python3"
  },
  "language_info": {
   "codemirror_mode": {
    "name": "ipython",
    "version": 3
   },
   "file_extension": ".py",
   "mimetype": "text/x-python",
   "name": "python",
   "nbconvert_exporter": "python",
   "pygments_lexer": "ipython3",
   "version": "3.10.17"
  }
 },
 "nbformat": 4,
 "nbformat_minor": 2
}
