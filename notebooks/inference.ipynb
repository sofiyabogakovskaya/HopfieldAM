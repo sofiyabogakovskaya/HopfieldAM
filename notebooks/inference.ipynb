{
  "cells": [
    {
      "cell_type": "code",
      "execution_count": 3,
      "metadata": {
        "id": "Kedanrlo6bau"
      },
      "outputs": [],
      "source": [
        "# !pip install -r HopfieldAM/requirements.txt"
      ]
    },
    {
      "cell_type": "code",
      "execution_count": 2,
      "metadata": {
        "colab": {
          "base_uri": "https://localhost:8080/"
        },
        "id": "i0xVBo2q6fTf",
        "outputId": "befc0911-95c6-4b56-b467-20d16eb960ba"
      },
      "outputs": [
        {
          "name": "stdout",
          "output_type": "stream",
          "text": [
            "Requirement already satisfied: rootutils in /usr/local/lib/python3.11/dist-packages (1.0.7)\n",
            "Requirement already satisfied: python-dotenv>=0.20.0 in /usr/local/lib/python3.11/dist-packages (from rootutils) (1.1.0)\n"
          ]
        },
        {
          "data": {
            "text/plain": [
              "PosixPath('/content/HopfieldAM')"
            ]
          },
          "execution_count": 2,
          "metadata": {},
          "output_type": "execute_result"
        }
      ],
      "source": [
        "!pip install rootutils\n",
        "\n",
        "!touch /content/HopfieldAM/.project-root\n",
        "\n",
        "import os\n",
        "import rootutils\n",
        "\n",
        "rootutils.setup_root(os.path.abspath('/content/HopfieldAM'), indicator=\".project-root\", pythonpath=True, dotenv=True, cwd=True)"
      ]
    },
    {
      "cell_type": "code",
      "execution_count": 3,
      "metadata": {
        "colab": {
          "base_uri": "https://localhost:8080/"
        },
        "id": "uC6cQ9Fr6LxM",
        "outputId": "242a7ab1-9f5d-41d8-9150-87ddfd5936d7"
      },
      "outputs": [
        {
          "name": "stdout",
          "output_type": "stream",
          "text": [
            "The autoreload extension is already loaded. To reload it, use:\n",
            "  %reload_ext autoreload\n"
          ]
        },
        {
          "data": {
            "text/plain": [
              "PosixPath('/content/HopfieldAM')"
            ]
          },
          "execution_count": 3,
          "metadata": {},
          "output_type": "execute_result"
        }
      ],
      "source": [
        "import os\n",
        "import rootutils\n",
        "\n",
        "%load_ext autoreload\n",
        "%autoreload 2\n",
        "\n",
        "rootutils.setup_root(os.path.abspath('./'), indicator=\".project-root\", pythonpath=True, dotenv=True, cwd=True)"
      ]
    },
    {
      "cell_type": "code",
      "execution_count": 6,
      "metadata": {
        "colab": {
          "base_uri": "https://localhost:8080/"
        },
        "id": "XiEDuUB46k5e",
        "outputId": "db804ada-7469-499b-9e2b-9140b0defd5b"
      },
      "outputs": [
        {
          "name": "stdout",
          "output_type": "stream",
          "text": [
            "Mounted at /content/drive\n"
          ]
        }
      ],
      "source": [
        "from google.colab import drive\n",
        "drive.mount('/content/drive')"
      ]
    },
    {
      "cell_type": "code",
      "execution_count": 4,
      "metadata": {
        "id": "4LVWN1GL7OBx"
      },
      "outputs": [],
      "source": [
        "experiments_dir = \"/content/drive/MyDrive/HopfieldAM_experiments/experiments_lr_e-3\""
      ]
    },
    {
      "cell_type": "code",
      "execution_count": null,
      "metadata": {
        "id": "3vmRFlRV6LxO"
      },
      "outputs": [],
      "source": [
        "import shutil\n",
        "from argparse import Namespace\n",
        "\n",
        "import jax.numpy as jnp\n",
        "\n",
        "import pandas as pd\n",
        "import matplotlib.pyplot as plt\n",
        "\n",
        "import jax.numpy as jnp\n",
        "import jax.random as random\n",
        "import jax\n",
        "\n",
        "import equinox as eqx\n",
        "import optax\n",
        "import numpy as np\n",
        "\n",
        "import tensorflow_datasets as tfds\n",
        "\n",
        "from config import CONFIG\n",
        "from activation_map import ACTIVATION_MAP\n",
        "from models import get_model\n",
        "from losses import get_batch_loss\n",
        "from datasets.dataset_loader import get_dataloader\n",
        "from datasets.get_dimension import get_dimension\n",
        "from src.train import train\n",
        "from src.test import test\n",
        "from utils.visualization import plot_metrics, plot_energy\n",
        "from utils.integrate_trajectory import integrate_trajectory, get_energy\n",
        "from utils.logger import new_run_id, log_experiment, log_summary\n",
        "from utils.parse_config import parse_config\n",
        "\n",
        "from tqdm.auto import tqdm\n",
        "import os\n",
        "import glob\n",
        "import re"
      ]
    },
    {
      "cell_type": "code",
      "execution_count": 6,
      "metadata": {
        "id": "EigYt1CH6LxP"
      },
      "outputs": [],
      "source": [
        "# os.environ[\"CUDA_VISIBLE_DEVICES\"] = \"4\"\n",
        "os.environ[\"XLA_PYTHON_CLIENT_PREALLOCATE\"] = \"false\"\n",
        "\n",
        "import tensorflow as tf\n",
        "\n",
        "gpus = tf.config.experimental.list_physical_devices('GPU')\n",
        "for gpu in gpus:\n",
        "    tf.config.experimental.set_memory_growth(gpu, True)\n"
      ]
    },
    {
      "cell_type": "code",
      "execution_count": 7,
      "metadata": {
        "id": "4myuDx436LxP"
      },
      "outputs": [],
      "source": [
        "def get_best_checkpoint_path(activation, t1, dt, experiments_dir):\n",
        "    \"\"\"\n",
        "    Find the best model checkpoint path given activation, t1, and dt parameters.\n",
        "\n",
        "    Args:\n",
        "        activation (str): Activation function name (e.g., 'gelu', 'relu', etc.)\n",
        "        t1 (float): t1 parameter value\n",
        "        dt (float): dt parameter value\n",
        "\n",
        "    Returns:\n",
        "        str: Path to the best model checkpoint or None if not found\n",
        "    \"\"\"\n",
        "\n",
        "    t1_str = f\"t1={t1}\"\n",
        "    dt_str = f\"dt={dt}\"\n",
        "\n",
        "    # pattern to match directory names\n",
        "    pattern = f\"run_*_{activation}_{t1_str}_{dt_str}\"\n",
        "\n",
        "    # search for matching directories\n",
        "    experiment_dirs = glob.glob(os.path.join(experiments_dir, pattern))\n",
        "\n",
        "    if not experiment_dirs:\n",
        "        return None\n",
        "\n",
        "    # if multiple directories match, get the most recent one\n",
        "    # (based on timestamp in directory name)\n",
        "    if len(experiment_dirs) > 1:\n",
        "        experiment_dirs.sort(reverse=True)\n",
        "\n",
        "    target_dir = experiment_dirs[0]\n",
        "\n",
        "    # get the best model file\n",
        "    best_model_files = glob.glob(os.path.join(target_dir, \"best_model*.eqx\"))\n",
        "\n",
        "    if not best_model_files:\n",
        "        return None\n",
        "\n",
        "    return best_model_files[0]\n",
        "\n",
        "def load_best_model(args: Namespace, experiments_dir):\n",
        "    ckpt_path = get_best_checkpoint_path(args.activation, args.t1, args.dt, experiments_dir)\n",
        "\n",
        "    N_neurons = get_dimension(args.dataset_name)\n",
        "    key = random.PRNGKey(19)\n",
        "    g = ACTIVATION_MAP[args.activation]\n",
        "    model = get_model(args.model, key=key, N_neurons=N_neurons, g=g)\n",
        "    model = eqx.tree_deserialise_leaves(ckpt_path, like=model)\n",
        "    return model"
      ]
    },
    {
      "cell_type": "code",
      "execution_count": 8,
      "metadata": {
        "id": "aROD7ozg6LxP"
      },
      "outputs": [],
      "source": [
        "def create_batch_to_compute_energy(numbers: list, each_number_samples: int, dataset_name=\"mnist\", split=\"test\"):\n",
        "    # load full dataset as arrays\n",
        "    ds = tfds.load(dataset_name, split=split, as_supervised=True, batch_size=-1)\n",
        "    images, labels = ds[0].numpy(), ds[1].numpy()  # Convert to numpy arrays\n",
        "\n",
        "    selected_images = []\n",
        "    selected_labels = []\n",
        "\n",
        "    for number in numbers:\n",
        "        # find indices for current number\n",
        "        mask = labels == number\n",
        "        indices = np.where(mask)[0]\n",
        "\n",
        "        if len(indices) == 0:\n",
        "            raise ValueError(f\"Number {number} not found in {split} split\")\n",
        "\n",
        "        # sample with replacement if needed\n",
        "        replace = len(indices) < each_number_samples\n",
        "        selected_indices = np.random.choice(indices, size=each_number_samples, replace=replace)\n",
        "\n",
        "        selected_images.append(images[selected_indices])\n",
        "        selected_labels.append(labels[selected_indices])\n",
        "\n",
        "    # combine and shuffle\n",
        "    combined_images = np.concatenate(selected_images, axis=0)\n",
        "    combined_labels = np.concatenate(selected_labels, axis=0)\n",
        "\n",
        "    # shuffle the batch\n",
        "    shuffle_idx = np.random.permutation(len(combined_images))\n",
        "\n",
        "    X = jnp.array(combined_images[shuffle_idx]).squeeze()\n",
        "    X = X.reshape(X.shape[0], -1)\n",
        "    y = jnp.array(combined_labels[shuffle_idx])\n",
        "\n",
        "    return X, y\n"
      ]
    },
    {
      "cell_type": "code",
      "execution_count": null,
      "metadata": {
        "id": "HoEiaZLG6LxQ"
      },
      "outputs": [],
      "source": [
        "# train_loader, val_loader, test_loader = get_dataloader(dataset_name=args.dataset_name, batch_size=args.batch_size)\n",
        "# batch_loss = get_batch_loss(args.loss)\n",
        "# test_loss, test_accuracy = test(best_model, test_loader, batch_loss, args.dt, args.t1, args.N_classes)"
      ]
    },
    {
      "cell_type": "markdown",
      "metadata": {
        "id": "vSmyJR3B6LxQ"
      },
      "source": [
        "---\n",
        "## Energy plots for numbers:"
      ]
    },
    {
      "cell_type": "code",
      "execution_count": 9,
      "metadata": {
        "id": "2L2S15s77yz7"
      },
      "outputs": [],
      "source": [
        "experiments_dir = \"/content/drive/MyDrive/HopfieldAM_experiments/experiments_lr_e-3\""
      ]
    },
    {
      "cell_type": "code",
      "execution_count": 10,
      "metadata": {
        "id": "0FtauSI76LxR"
      },
      "outputs": [],
      "source": [
        "args = Namespace(\n",
        "    model=\"Hopfield\",\n",
        "    loss=\"loss_last10\",\n",
        "    dataset_name = \"mnist\",\n",
        "    batch_size=128,\n",
        "\n",
        "    activation = \"relu\",\n",
        "    dt=0.01,\n",
        "    t1=5.0,\n",
        "\n",
        "    N_classes=10,\n",
        ")\n",
        "\n",
        "best_model = load_best_model(\n",
        "    args,\n",
        "    experiments_dir=experiments_dir)"
      ]
    },
    {
      "cell_type": "code",
      "execution_count": 11,
      "metadata": {
        "id": "IaTqvByg6LxS"
      },
      "outputs": [],
      "source": [
        "X, y = create_batch_to_compute_energy(\n",
        "    numbers=[0, 1],\n",
        "    each_number_samples=1,\n",
        "    dataset_name=args.dataset_name,\n",
        "    split=\"test\"\n",
        ")\n",
        "samples = y.shape[0]"
      ]
    },
    {
      "cell_type": "code",
      "execution_count": 12,
      "metadata": {
        "id": "tFIgBVg79Mx9"
      },
      "outputs": [],
      "source": [
        "def plot_energy(run_id, model, X_batch, y_batch, dt, t1, samples, save_plot=True, ylim=None, xlim=None, plot_mean=False, plot_only_mean=False, plot_path=None):\n",
        "\n",
        "    X, y, ts, batch_E = get_energy(model, X_batch, y_batch, dt, t1, samples)\n",
        "    output_dir = f\"experiments/{run_id}\"\n",
        "\n",
        "    if plot_path is None:\n",
        "        plot_path = os.path.join(output_dir, f\"energy_plot_{samples}samples.png\")\n",
        "\n",
        "    # plot, coloring by digit\n",
        "    plt.figure(figsize=(10, 6))\n",
        "    colors = plt.get_cmap(\"tab10\")  # 10 distinct colors\n",
        "\n",
        "    for digit in range(10):\n",
        "        idx = jnp.where(y == digit)[0]\n",
        "        for i in idx:\n",
        "            if not plot_only_mean:\n",
        "                plt.plot(ts, batch_E[i],\n",
        "                        color=colors(digit),\n",
        "                        label=str(digit) if i == idx[0] else None,\n",
        "                        alpha=0.7)\n",
        "        # plt.plot(ts, ba)\n",
        "        if plot_mean:\n",
        "            E_mean_for_digit = jnp.mean(batch_E[idx], axis=0)\n",
        "\n",
        "            if batch_E[idx].shape[0] > 0:\n",
        "                plt.plot(ts, E_mean_for_digit,\n",
        "                        linestyle=\"--\",\n",
        "                        color=colors(digit),\n",
        "                        label=f\"{digit}: <E>\",\n",
        "                        alpha=0.7)\n",
        "\n",
        "    plt.xlabel(\"Time\")\n",
        "    plt.ylabel(\"Energy\")\n",
        "    plt.grid(alpha=0.4)\n",
        "    plt.title(f\"{run_id}: Energy vs Time for {samples} samples, (t ∈ [0,{t1}])\")\n",
        "    plt.legend(ncol=5, fontsize=10)\n",
        "\n",
        "    if ylim is not None:\n",
        "        plt.ylim(bottom=ylim[0], top=ylim[1])\n",
        "    else:\n",
        "        plt.ylim(bottom=min(batch_E.flatten()) * 1.1)  # show negative energies clearly\n",
        "\n",
        "    if xlim is not None:\n",
        "        plt.xlim(left=xlim[0], right=xlim[1])\n",
        "\n",
        "    if save_plot:\n",
        "        os.makedirs(output_dir, exist_ok=True)\n",
        "        plt.savefig(plot_path, bbox_inches=\"tight\", dpi=300)\n",
        "        print(f\"Plot saved to {plot_path}\")\n",
        "\n",
        "    plt.show()\n",
        "    plt.close(\"all\")\n"
      ]
    },
    {
      "cell_type": "code",
      "execution_count": 13,
      "metadata": {
        "id": "F_IbA-ve91Ga"
      },
      "outputs": [],
      "source": [
        "from utils.energy_derivative import energy_derivative\n",
        "from utils.integrate_trajectory import integrate_trajectory"
      ]
    },
    {
      "cell_type": "code",
      "execution_count": 14,
      "metadata": {
        "id": "qOUyKW2j-LJv"
      },
      "outputs": [],
      "source": [
        "def get_energy_dot(model, X_batch, y_batch, dt, t1, samples):\n",
        "    N_steps = int(t1 / dt)\n",
        "    ts = jnp.linspace(0.0, t1, N_steps + 1)\n",
        "\n",
        "    X = X_batch[:samples]\n",
        "    y = y_batch[:samples]\n",
        "\n",
        "    batch_trajs = vmap(integrate_trajectory, in_axes=(None, 0, None, None, None))(\n",
        "        model, X, dt, t1, ts\n",
        "        )\n",
        "\n",
        "    batch_E_dot = vmap(lambda traj: vmap(energy_derivative, in_axes=(None, 0))(model, traj))(batch_trajs)\n",
        "    return X, y, ts, batch_E_dot"
      ]
    },
    {
      "cell_type": "code",
      "execution_count": 15,
      "metadata": {
        "id": "qo2QCzPQJ-PJ"
      },
      "outputs": [],
      "source": [
        "from jax import grad, random, config, vmap, jit"
      ]
    },
    {
      "cell_type": "code",
      "execution_count": null,
      "metadata": {
        "id": "jbjZEdcph78H"
      },
      "outputs": [],
      "source": [
        "\"\"\"old plot energy\"\"\"\n",
        "def plot_energy(run_id, model, X_batch, y_batch, dt, t1, samples, save_plot=True):\n",
        "    X, y, ts, batch_E = get_energy(model, X_batch, y_batch, dt, t1, samples)\n",
        "\n",
        "    output_dir = f\"experiments/{run_id}\"\n",
        "    plot_path = os.path.join(output_dir, f\"energy_plot_{samples}samples.png\")\n",
        "\n",
        "    # plot, coloring by digit\n",
        "    plt.figure(figsize=(10, 6))\n",
        "    colors = plt.get_cmap(\"tab10\")  # 10 distinct colors\n",
        "\n",
        "    for digit in range(10):\n",
        "        idx = jnp.where(y == digit)[0]\n",
        "        for i in idx:\n",
        "            plt.plot(ts, batch_E[i],\n",
        "                    color=colors(digit),\n",
        "                    label=str(digit) if i == idx[0] else None,\n",
        "                    alpha=0.7)\n",
        "\n",
        "    plt.xlabel(\"Time\")\n",
        "    plt.ylabel(\"Energy\")\n",
        "    plt.title(f\"{run_id}: Energy vs Time for first {samples} samples (t ∈ [0,{t1}])\")\n",
        "    plt.legend(title=\"Digit\", ncol=5, fontsize=\"small\")\n",
        "    plt.grid(alpha=0.4)\n",
        "    plt.ylim(-50, 100)\n",
        "    plt.ylim(bottom=min(batch_E.flatten()) * 1.1)  # show negative energies clearly\n",
        "\n",
        "    if save_plot:\n",
        "        os.makedirs(output_dir, exist_ok=True)\n",
        "        plt.savefig(plot_path)\n",
        "        print(f\"Plot saved to {plot_path}\")\n",
        "\n",
        "    plt.show()\n",
        "    plt.close(\"all\")"
      ]
    },
    {
      "cell_type": "code",
      "execution_count": 16,
      "metadata": {
        "id": "q_kofC0ZJUkr"
      },
      "outputs": [],
      "source": [
        "def plot_energy_dot(run_id, model, X_batch, y_batch, dt, t1, samples, save_plot=False):\n",
        "    X, y, ts, batch_E = get_energy_dot(model, X_batch, y_batch, dt, t1, samples)\n",
        "\n",
        "    output_dir = f\"experiments/{run_id}\"\n",
        "    plot_path = os.path.join(output_dir, f\"energy_plot_{samples}samples.png\")\n",
        "\n",
        "    # plot, coloring by digit\n",
        "    plt.figure(figsize=(10, 6))\n",
        "    colors = plt.get_cmap(\"tab10\")  # 10 distinct colors\n",
        "\n",
        "    for digit in range(10):\n",
        "        idx = jnp.where(y == digit)[0]\n",
        "        for i in idx:\n",
        "            plt.plot(ts, batch_E[i],\n",
        "                    color=colors(digit),\n",
        "                    label=str(digit) if i == idx[0] else None,\n",
        "                    alpha=0.7)\n",
        "\n",
        "    plt.xlabel(\"Time\")\n",
        "    plt.ylabel(\"Energy\")\n",
        "    plt.title(f\"{run_id}: Energy vs Time for first {samples} samples (t ∈ [0,{t1}])\")\n",
        "    plt.legend(title=\"Digit\", ncol=5, fontsize=\"small\")\n",
        "    plt.grid(alpha=0.4)\n",
        "    plt.ylim(-50, 100)\n",
        "    plt.ylim(bottom=min(batch_E.flatten()) * 1.1)  # show negative energies clearly\n",
        "\n",
        "    if save_plot:\n",
        "        os.makedirs(output_dir, exist_ok=True)\n",
        "        plt.savefig(plot_path)\n",
        "        print(f\"Plot saved to {plot_path}\")\n",
        "\n",
        "    plt.show()\n",
        "    plt.close(\"all\")\n"
      ]
    },
    {
      "cell_type": "code",
      "execution_count": 17,
      "metadata": {
        "id": "h8VRpK26VyJH"
      },
      "outputs": [],
      "source": [
        "def relu_derivative(y):\n",
        "    \"\"\"Computes the derivative of ReLU w.r.t. y using JAX\"\"\"\n",
        "    return jnp.diag((y > 0).astype(float))\n",
        "\n",
        "def energy_derivative(model, x):\n",
        "    y = x / (jnp.linalg.norm(x))\n",
        "    g = model.g(y)\n",
        "    W = model.W\n",
        "    I = jnp.eye(len(x))\n",
        "    E_dot = (-W @ g + y).T @ (relu_derivative(y)) @ (I - jnp.outer(y, y)) @ (W @ g)\n",
        "    return E_dot"
      ]
    },
    {
      "cell_type": "code",
      "execution_count": 18,
      "metadata": {
        "colab": {
          "base_uri": "https://localhost:8080/",
          "height": 564
        },
        "id": "EIw2EGBHJe-N",
        "outputId": "29e1ca41-4976-4d6d-c420-8f750ccc110a"
      },
      "outputs": [
        {
          "data": {
            "image/png": "[encoded data removed]",
            "text/plain": [
              "<Figure size 1000x600 with 1 Axes>"
            ]
          },
          "metadata": {},
          "output_type": "display_data"
        }
      ],
      "source": [
        "plot_energy_dot(\"run_id\", best_model, X, y, args.dt, args.t1, samples, save_plot=False)"
      ]
    },
    {
      "cell_type": "code",
      "execution_count": 22,
      "metadata": {
        "colab": {
          "base_uri": "https://localhost:8080/",
          "height": 564
        },
        "id": "FMergYnm6LxS",
        "outputId": "2c145017-39bf-4832-c57a-e4399718929b"
      },
      "outputs": [
        {
          "data": {
            "image/png": "[encoded data removed]",
            "text/plain": [
              "<Figure size 1000x600 with 1 Axes>"
            ]
          },
          "metadata": {},
          "output_type": "display_data"
        }
      ],
      "source": [
        "plot_energy(\n",
        "    f\"{args.activation}; dt={args.dt}\",\n",
        "    best_model,\n",
        "    X,\n",
        "    y,\n",
        "    args.dt,\n",
        "    args.t1,\n",
        "    samples,\n",
        "    save_plot=False,\n",
        "    # ylim=(330, 370),\n",
        "    # xlim=(10, 15.5),\n",
        "    plot_only_mean=False\n",
        ")"
      ]
    },
    {
      "cell_type": "code",
      "execution_count": null,
      "metadata": {
        "id": "HP5-jq4U75n-"
      },
      "outputs": [],
      "source": []
    }
  ],
  "metadata": {
    "colab": {
      "provenance": []
    },
    "kernelspec": {
      "display_name": "HopfieldAM",
      "language": "python",
      "name": "python3"
    },
    "language_info": {
      "codemirror_mode": {
        "name": "ipython",
        "version": 3
      },
      "file_extension": ".py",
      "mimetype": "text/x-python",
      "name": "python",
      "nbconvert_exporter": "python",
      "pygments_lexer": "ipython3",
      "version": "3.10.13"
    }
  },
  "nbformat": 4,
  "nbformat_minor": 0
}
